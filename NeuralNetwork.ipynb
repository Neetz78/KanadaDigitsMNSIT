{
 "cells": [
  {
   "cell_type": "code",
   "execution_count": 1,
   "id": "423a6ce8",
   "metadata": {},
   "outputs": [],
   "source": [
    "## importing all required libraries"
   ]
  },
  {
   "cell_type": "code",
   "execution_count": 2,
   "id": "3b00a52d",
   "metadata": {},
   "outputs": [],
   "source": [
    "import numpy as np\n",
    "import pandas as pd\n",
    "from sklearn.model_selection import train_test_split\n",
    "import matplotlib.pyplot as plt\n",
    "import keras\n",
    "import tensorflow\n",
    "from tensorflow.keras.models import Sequential\n",
    "from tensorflow.keras.layers import Dense, Flatten, Conv2D, Dropout,MaxPool2D, LSTM, BatchNormalization\n",
    "from tensorflow.keras.callbacks import ReduceLROnPlateau\n",
    "from tensorflow.keras.layers import ELU,Activation\n",
    "from tensorflow.keras.losses import sparse_categorical_crossentropy, categorical_crossentropy, binary_crossentropy"
   ]
  },
  {
   "cell_type": "code",
   "execution_count": 7,
   "id": "25a8a86b",
   "metadata": {},
   "outputs": [],
   "source": [
    "### Reading all data, train test and validation set"
   ]
  },
  {
   "cell_type": "code",
   "execution_count": 3,
   "id": "a1235d3b",
   "metadata": {},
   "outputs": [],
   "source": [
    "train = pd.read_csv(\"train.csv\")\n",
    "test = pd.read_csv(\"test.csv\")"
   ]
  },
  {
   "cell_type": "code",
   "execution_count": 4,
   "id": "f9d1c1d5",
   "metadata": {},
   "outputs": [],
   "source": [
    "val_test = pd.read_csv(\"Dig-MNIST.csv\")"
   ]
  },
  {
   "cell_type": "code",
   "execution_count": 10,
   "id": "b952aa33",
   "metadata": {},
   "outputs": [
    {
     "name": "stdout",
     "output_type": "stream",
     "text": [
      "(60000, 785)\n",
      "(5000, 785)\n",
      "(10240, 785)\n"
     ]
    }
   ],
   "source": [
    "print(train.shape)\n",
    "print(test.shape)\n",
    "print(val_test.shape)"
   ]
  },
  {
   "cell_type": "code",
   "execution_count": 11,
   "id": "54a26ed4",
   "metadata": {},
   "outputs": [],
   "source": [
    "img_r,img_c = 28,28\n",
    "classes = 10"
   ]
  },
  {
   "cell_type": "markdown",
   "id": "74e61a8b",
   "metadata": {},
   "source": [
    "#### ONE HOT ENCODING:\n",
    "\n",
    "One hot encoding is one method of converting data to prepare it for an algorithm and get a better prediction. With one-hot, we convert each categorical value into a new categorical column and assign a binary value of 1 or 0 to those columns. Each integer value is represented as a binary vector."
   ]
  },
  {
   "cell_type": "code",
   "execution_count": 12,
   "id": "fcdca74a",
   "metadata": {},
   "outputs": [],
   "source": [
    "def data_prep(raw):\n",
    "    out_y = tensorflow.keras.utils.to_categorical(raw.label,classes)\n",
    "\n",
    "    num_images = raw.shape[0]\n",
    "    x_as_array = raw.values[:,1:]\n",
    "    x_shaped_array = x_as_array.reshape(num_images, img_r, img_c, 1)\n",
    "    # normalization\n",
    "    out_x = x_shaped_array / 255\n",
    "    return out_x, out_y"
   ]
  },
  {
   "cell_type": "code",
   "execution_count": 13,
   "id": "514b22f4",
   "metadata": {},
   "outputs": [],
   "source": [
    "x_train, y_train = data_prep(train)\n",
    "x_val,y_val = data_prep(val_test)"
   ]
  },
  {
   "cell_type": "code",
   "execution_count": 14,
   "id": "977730ce",
   "metadata": {},
   "outputs": [],
   "source": [
    "x_train, x_test, y_train, y_test = train_test_split(np.concatenate((x_train, x_val)),np.concatenate((y_train, y_val)),\n",
    "                                                   test_size=0.1,shuffle=True)"
   ]
  },
  {
   "cell_type": "code",
   "execution_count": 16,
   "id": "5f737816",
   "metadata": {},
   "outputs": [
    {
     "name": "stdout",
     "output_type": "stream",
     "text": [
      "Training data size is (63216, 28, 28, 1)\n",
      "Training data size is (63216, 10)\n",
      "Testing data size is (7024, 28, 28, 1)\n",
      "Training data size is (7024, 10)\n"
     ]
    }
   ],
   "source": [
    "print(f\"Training data size is {x_train.shape}\")\n",
    "print(f\"Training data size is {y_train.shape}\")\n",
    "print(f\"Testing data size is {x_test.shape}\")\n",
    "print(f\"Training data size is {y_test.shape}\")"
   ]
  },
  {
   "cell_type": "code",
   "execution_count": 17,
   "id": "a74aaf49",
   "metadata": {},
   "outputs": [],
   "source": [
    "### different ways to visulaize the data"
   ]
  },
  {
   "cell_type": "code",
   "execution_count": 18,
   "id": "7bb08914",
   "metadata": {},
   "outputs": [
    {
     "data": {
      "image/png": "[encoded data removed]",
      "text/plain": [
       "<Figure size 1440x1080 with 5 Axes>"
      ]
     },
     "metadata": {},
     "output_type": "display_data"
    }
   ],
   "source": [
    "def get_image(row, dataset):\n",
    "    row_values = dataset.iloc[row].values\n",
    "    image_matrix = row_values.reshape(img_r, img_c)\n",
    "    return image_matrix\n",
    "\n",
    "fig, ax = plt.subplots(1, 5, figsize=(12, 9), dpi=120)\n",
    "plt.setp(ax, xticks=[], yticks=[])\n",
    "\n",
    "ax_n=0\n",
    "for i in range(1,6,1):\n",
    "    ax[ax_n].imshow(get_image(i, train.drop('label',axis=1)))\n",
    "    ax_n+=1"
   ]
  },
  {
   "cell_type": "code",
   "execution_count": 19,
   "id": "741daf4e",
   "metadata": {},
   "outputs": [
    {
     "data": {
      "text/plain": [
       "[5, 5, 4, 0, 0, 1, 8, 0, 5]"
      ]
     },
     "execution_count": 19,
     "metadata": {},
     "output_type": "execute_result"
    }
   ],
   "source": [
    "title=[]\n",
    "for i in range(1, 10):\n",
    "    for j in range(0,10):\n",
    "        if y_train[i][j] == 1:\n",
    "            title.append(j)\n",
    "title"
   ]
  },
  {
   "cell_type": "code",
   "execution_count": 20,
   "id": "d0fa6011",
   "metadata": {},
   "outputs": [
    {
     "data": {
      "image/png": "[encoded data removed]",
      "text/plain": [
       "<Figure size 504x648 with 9 Axes>"
      ]
     },
     "metadata": {
      "needs_background": "light"
     },
     "output_type": "display_data"
    }
   ],
   "source": [
    "plt.figure(figsize=(7,9))\n",
    "for i in range(1, 10):\n",
    "    plt.subplot(330 + i)\n",
    "    plt.imshow(x_train[i], cmap=plt.get_cmap('Greys'))\n",
    "    plt.title(title[i-1])\n",
    "    plt.axis('off')\n",
    "plt.tight_layout()"
   ]
  },
  {
   "cell_type": "markdown",
   "id": "3a9ac814",
   "metadata": {},
   "source": [
    "### Activation Function"
   ]
  },
  {
   "cell_type": "code",
   "execution_count": 21,
   "id": "a9876a15",
   "metadata": {},
   "outputs": [],
   "source": [
    "leakyrelu = tensorflow.keras.layers.LeakyReLU(alpha=0.01)\n",
    "\n",
    "#relu = tensorflow.keras.layers.relu(alpha=0.01)"
   ]
  },
  {
   "cell_type": "markdown",
   "id": "f9489ae9",
   "metadata": {},
   "source": [
    "### Model \n",
    "\n",
    "\n",
    "tf.keras.layers.Conv2D( filters, kernel_size, strides=(1, 1), padding='valid/same', data_format=None,dilation_rate=(1, 1),groups=1, activation=None, use_bias=True, kernel_initializer='glorot_uniform', bias_initializer='zeros', kernel_regularizer=None, bias_regularizer=None, activity_regularizer=None, kernel_constraint=None, bias_constraint=None,**kwargs\n",
    ")"
   ]
  },
  {
   "cell_type": "code",
   "execution_count": 23,
   "id": "55de63cf",
   "metadata": {},
   "outputs": [
    {
     "name": "stdout",
     "output_type": "stream",
     "text": [
      "Model: \"sequential_1\"\n",
      "_________________________________________________________________\n",
      " Layer (type)                Output Shape              Param #   \n",
      "=================================================================\n",
      " conv2d_4 (Conv2D)           (None, 28, 28, 64)        640       \n",
      "                                                                 \n",
      " batch_normalization_5 (Batc  (None, 28, 28, 64)       192       \n",
      " hNormalization)                                                 \n",
      "                                                                 \n",
      " activation_5 (Activation)   (None, 28, 28, 64)        0         \n",
      "                                                                 \n",
      " conv2d_5 (Conv2D)           (None, 28, 28, 64)        36928     \n",
      "                                                                 \n",
      " batch_normalization_6 (Batc  (None, 28, 28, 64)       192       \n",
      " hNormalization)                                                 \n",
      "                                                                 \n",
      " activation_6 (Activation)   (None, 28, 28, 64)        0         \n",
      "                                                                 \n",
      " max_pooling2d_2 (MaxPooling  (None, 14, 14, 64)       0         \n",
      " 2D)                                                             \n",
      "                                                                 \n",
      " dropout_2 (Dropout)         (None, 14, 14, 64)        0         \n",
      "                                                                 \n",
      " conv2d_6 (Conv2D)           (None, 14, 14, 128)       73856     \n",
      "                                                                 \n",
      " batch_normalization_7 (Batc  (None, 14, 14, 128)      384       \n",
      " hNormalization)                                                 \n",
      "                                                                 \n",
      " activation_7 (Activation)   (None, 14, 14, 128)       0         \n",
      "                                                                 \n",
      " conv2d_7 (Conv2D)           (None, 14, 14, 128)       147584    \n",
      "                                                                 \n",
      " batch_normalization_8 (Batc  (None, 14, 14, 128)      384       \n",
      " hNormalization)                                                 \n",
      "                                                                 \n",
      " activation_8 (Activation)   (None, 14, 14, 128)       0         \n",
      "                                                                 \n",
      " max_pooling2d_3 (MaxPooling  (None, 7, 7, 128)        0         \n",
      " 2D)                                                             \n",
      "                                                                 \n",
      " dropout_3 (Dropout)         (None, 7, 7, 128)         0         \n",
      "                                                                 \n",
      " flatten_1 (Flatten)         (None, 6272)              0         \n",
      "                                                                 \n",
      " dense_1 (Dense)             (None, 256)               1605888   \n",
      "                                                                 \n",
      " batch_normalization_9 (Batc  (None, 256)              768       \n",
      " hNormalization)                                                 \n",
      "                                                                 \n",
      " activation_9 (Activation)   (None, 256)               0         \n",
      "                                                                 \n",
      " dense_2 (Dense)             (None, 10)                2570      \n",
      "                                                                 \n",
      "=================================================================\n",
      "Total params: 1,869,386\n",
      "Trainable params: 1,868,106\n",
      "Non-trainable params: 1,280\n",
      "_________________________________________________________________\n"
     ]
    }
   ],
   "source": [
    "model = Sequential()\n",
    "\n",
    "model.add(Conv2D(64, kernel_size=3, padding='same',input_shape=(img_r, img_c, 1)))\n",
    "model.add(BatchNormalization(scale=False, center=True))\n",
    "model.add(Activation('relu'))\n",
    "model.add(Conv2D(64, kernel_size=3, padding = 'same'))\n",
    "model.add(BatchNormalization(scale=False, center=True))\n",
    "model.add(Activation('relu'))\n",
    "model.add(MaxPool2D(pool_size=(2,2)))\n",
    "model.add(Dropout(0.2))\n",
    "\n",
    "model.add(Conv2D(128, kernel_size=(3,3), padding = 'same'))\n",
    "model.add(BatchNormalization(scale=False,center=True))\n",
    "model.add(Activation('relu'))\n",
    "model.add(Conv2D(128, kernel_size=(3, 3), padding = 'same'))\n",
    "model.add(BatchNormalization(scale=False,center=True))\n",
    "model.add(Activation('relu'))\n",
    "model.add(MaxPool2D(pool_size=(2,2)))\n",
    "model.add(Dropout(0.2))\n",
    "\n",
    "model.add(Flatten())\n",
    "\n",
    "model.add(Dense(256))\n",
    "model.add(BatchNormalization(scale=False,center=True))\n",
    "model.add(Activation('relu'))\n",
    "model.add(Dense(classes, activation='softmax'))\n",
    "\n",
    "model.summary()"
   ]
  },
  {
   "cell_type": "code",
   "execution_count": 31,
   "id": "6f5fd993",
   "metadata": {},
   "outputs": [],
   "source": [
    "# from tensorflow.keras.utils import plot_model\n",
    "# plot_model(model, to_file='/Users/neethug/Desktop/Neethu/DataScience Projects/KanadaDigitsMNSIT/model.png', show_shapes=True)\n",
    "# from IPython.display import Image\n",
    "# Image(\"/Users/neethug/Desktop/Neethu/DataScience Projects/KanadaDigitsMNSIT/model.png\")"
   ]
  },
  {
   "cell_type": "markdown",
   "id": "9bf4cd3b",
   "metadata": {},
   "source": [
    "#### DATA Augumentation for avoiding over fitting."
   ]
  },
  {
   "cell_type": "markdown",
   "id": "ccdd41f1",
   "metadata": {},
   "source": [
    "One way to avoid overfitting and improve the accuracy is to increase the variability of existing samples. Which is also helps to compensate lack of data. Data augmentation generates data from existing samples by applying various transformations to the original dataset. This method aims to increase the number of unique input samples, which, in turn, will allow the model to show better accuracy on the validation dataset.\n",
    "\n",
    "\n",
    "https://www.tensorflow.org/api_docs/python/tf/keras/preprocessing/image/ImageDataGenerator\n"
   ]
  },
  {
   "cell_type": "code",
   "execution_count": 32,
   "id": "78a3364a",
   "metadata": {},
   "outputs": [],
   "source": [
    "from keras.preprocessing.image import ImageDataGenerator"
   ]
  },
  {
   "cell_type": "code",
   "execution_count": 33,
   "id": "eabbf7b5",
   "metadata": {},
   "outputs": [],
   "source": [
    "# use data augmentation to improve accuracy and prevent overfitting\n",
    "augs_gen = ImageDataGenerator(\n",
    "        featurewise_center=False,  \n",
    "        samplewise_center=False, \n",
    "        featurewise_std_normalization=False,  \n",
    "        samplewise_std_normalization=False,  \n",
    "        zca_whitening=False,  \n",
    "        rotation_range=10,  \n",
    "        zoom_range = 0.2, \n",
    "        width_shift_range=0.2,  \n",
    "        height_shift_range=0.2, \n",
    "        horizontal_flip=False,  \n",
    "        vertical_flip=False) \n",
    "\n",
    "train_generator = augs_gen.flow(x_train, y_train, batch_size=128)\n",
    "valid_generator = augs_gen.flow(x_val, y_val, batch_size=128)"
   ]
  },
  {
   "cell_type": "markdown",
   "id": "6268f4ce",
   "metadata": {},
   "source": [
    "## Early stoping\n",
    "\n",
    "It stops the building of the modelling if the monitored metric is not optimizing anymore.\n",
    "\n",
    "https://www.tensorflow.org/api_docs/python/tf/keras/callbacks/EarlyStopping"
   ]
  },
  {
   "cell_type": "code",
   "execution_count": 34,
   "id": "f184ba95",
   "metadata": {},
   "outputs": [],
   "source": [
    "from keras.callbacks import EarlyStopping\n",
    "early_stop = EarlyStopping(monitor='val_accuracy', min_delta=0.00001, patience=6, mode='auto', restore_best_weights=True)"
   ]
  },
  {
   "cell_type": "markdown",
   "id": "f4605750",
   "metadata": {},
   "source": [
    "## Learning Rate Reduction\n",
    "\n",
    "\n",
    "Reduces a learning rate when a metric is stopped being optimized.\n",
    "\n",
    "https://www.tensorflow.org/api_docs/python/tf/keras/callbacks/ReduceLROnPlateau"
   ]
  },
  {
   "cell_type": "code",
   "execution_count": 37,
   "id": "31782892",
   "metadata": {},
   "outputs": [],
   "source": [
    "lr_reduction = ReduceLROnPlateau(monitor='val_accuracy', min_lr=0.0001 ,patience=6, verbose=1,  factor=0.6)"
   ]
  },
  {
   "cell_type": "code",
   "execution_count": 38,
   "id": "290883cd",
   "metadata": {},
   "outputs": [],
   "source": [
    "epochs = 25\n",
    "BATCH = 128"
   ]
  },
  {
   "cell_type": "code",
   "execution_count": 39,
   "id": "04f9df18",
   "metadata": {},
   "outputs": [
    {
     "name": "stdout",
     "output_type": "stream",
     "text": [
      "Epoch 1/25\n",
      "494/494 [==============================] - 275s 556ms/step - loss: 0.0601 - accuracy: 0.9240 - val_loss: 0.6753 - val_accuracy: 0.1361 - lr: 0.0010\n",
      "Epoch 2/25\n",
      "494/494 [==============================] - 302s 611ms/step - loss: 0.0199 - accuracy: 0.9721 - val_loss: 0.0691 - val_accuracy: 0.8826 - lr: 0.0010\n",
      "Epoch 3/25\n",
      "494/494 [==============================] - 314s 635ms/step - loss: 0.0150 - accuracy: 0.9789 - val_loss: 0.0400 - val_accuracy: 0.9377 - lr: 0.0010\n",
      "Epoch 4/25\n",
      "494/494 [==============================] - 306s 620ms/step - loss: 0.0130 - accuracy: 0.9811 - val_loss: 0.0357 - val_accuracy: 0.9409 - lr: 0.0010\n",
      "Epoch 5/25\n",
      "494/494 [==============================] - 319s 646ms/step - loss: 0.0119 - accuracy: 0.9823 - val_loss: 0.0327 - val_accuracy: 0.9491 - lr: 0.0010\n",
      "Epoch 6/25\n",
      "494/494 [==============================] - 459s 929ms/step - loss: 0.0108 - accuracy: 0.9835 - val_loss: 0.0490 - val_accuracy: 0.9150 - lr: 0.0010\n",
      "Epoch 7/25\n",
      "494/494 [==============================] - 460s 931ms/step - loss: 0.0101 - accuracy: 0.9851 - val_loss: 0.0329 - val_accuracy: 0.9456 - lr: 0.0010\n",
      "Epoch 8/25\n",
      "494/494 [==============================] - 305s 617ms/step - loss: 0.0094 - accuracy: 0.9861 - val_loss: 0.0296 - val_accuracy: 0.9526 - lr: 0.0010\n",
      "Epoch 9/25\n",
      "494/494 [==============================] - 509s 1s/step - loss: 0.0087 - accuracy: 0.9869 - val_loss: 0.0304 - val_accuracy: 0.9502 - lr: 0.0010\n",
      "Epoch 10/25\n",
      "494/494 [==============================] - 303s 613ms/step - loss: 0.0084 - accuracy: 0.9872 - val_loss: 0.0260 - val_accuracy: 0.9570 - lr: 0.0010\n",
      "Epoch 11/25\n",
      "494/494 [==============================] - 310s 627ms/step - loss: 0.0082 - accuracy: 0.9877 - val_loss: 0.0196 - val_accuracy: 0.9680 - lr: 0.0010\n",
      "Epoch 12/25\n",
      "494/494 [==============================] - 312s 632ms/step - loss: 0.0075 - accuracy: 0.9889 - val_loss: 0.0571 - val_accuracy: 0.9080 - lr: 0.0010\n",
      "Epoch 13/25\n",
      "494/494 [==============================] - 309s 626ms/step - loss: 0.0072 - accuracy: 0.9890 - val_loss: 0.0206 - val_accuracy: 0.9671 - lr: 0.0010\n",
      "Epoch 14/25\n",
      "494/494 [==============================] - 334s 675ms/step - loss: 0.0072 - accuracy: 0.9893 - val_loss: 0.0172 - val_accuracy: 0.9729 - lr: 0.0010\n",
      "Epoch 15/25\n",
      "494/494 [==============================] - 326s 659ms/step - loss: 0.0066 - accuracy: 0.9900 - val_loss: 0.0180 - val_accuracy: 0.9709 - lr: 0.0010\n",
      "Epoch 16/25\n",
      "494/494 [==============================] - 322s 653ms/step - loss: 0.0066 - accuracy: 0.9902 - val_loss: 0.0205 - val_accuracy: 0.9675 - lr: 0.0010\n",
      "Epoch 17/25\n",
      "494/494 [==============================] - 318s 643ms/step - loss: 0.0063 - accuracy: 0.9905 - val_loss: 0.0211 - val_accuracy: 0.9680 - lr: 0.0010\n",
      "Epoch 18/25\n",
      "494/494 [==============================] - 321s 650ms/step - loss: 0.0063 - accuracy: 0.9905 - val_loss: 0.0167 - val_accuracy: 0.9734 - lr: 0.0010\n",
      "Epoch 19/25\n",
      "494/494 [==============================] - 325s 658ms/step - loss: 0.0059 - accuracy: 0.9915 - val_loss: 0.0144 - val_accuracy: 0.9770 - lr: 0.0010\n",
      "Epoch 20/25\n",
      "494/494 [==============================] - 322s 652ms/step - loss: 0.0060 - accuracy: 0.9908 - val_loss: 0.0157 - val_accuracy: 0.9737 - lr: 0.0010\n",
      "Epoch 21/25\n",
      "494/494 [==============================] - 332s 672ms/step - loss: 0.0053 - accuracy: 0.9922 - val_loss: 0.0152 - val_accuracy: 0.9772 - lr: 0.0010\n",
      "Epoch 22/25\n",
      "494/494 [==============================] - 328s 664ms/step - loss: 0.0057 - accuracy: 0.9910 - val_loss: 0.0150 - val_accuracy: 0.9755 - lr: 0.0010\n",
      "Epoch 23/25\n",
      "494/494 [==============================] - 334s 677ms/step - loss: 0.0054 - accuracy: 0.9919 - val_loss: 0.0116 - val_accuracy: 0.9810 - lr: 0.0010\n",
      "Epoch 24/25\n",
      "494/494 [==============================] - 337s 682ms/step - loss: 0.0053 - accuracy: 0.9920 - val_loss: 0.0117 - val_accuracy: 0.9826 - lr: 0.0010\n",
      "Epoch 25/25\n",
      "494/494 [==============================] - 330s 668ms/step - loss: 0.0050 - accuracy: 0.9921 - val_loss: 0.0148 - val_accuracy: 0.9759 - lr: 0.0010\n"
     ]
    }
   ],
   "source": [
    "model.compile(optimizer = 'adam',loss = binary_crossentropy,metrics=['accuracy'])\n",
    "model_fit = model.fit(train_generator, epochs=epochs,batch_size =BATCH ,validation_data= valid_generator, verbose =1,callbacks=[early_stop,lr_reduction])"
   ]
  },
  {
   "cell_type": "code",
   "execution_count": null,
   "id": "6dc09f01",
   "metadata": {},
   "outputs": [],
   "source": [
    "# !mkdir -p saved_model\n",
    "# model.save('saved_model/my_model')"
   ]
  },
  {
   "cell_type": "code",
   "execution_count": null,
   "id": "960c997c",
   "metadata": {},
   "outputs": [],
   "source": [
    "# load_model = tensorflow.keras.models.load_model('saved_model/my_model')\n",
    "# load_model.summary()"
   ]
  },
  {
   "cell_type": "code",
   "execution_count": 41,
   "id": "abc01eed",
   "metadata": {},
   "outputs": [
    {
     "name": "stdout",
     "output_type": "stream",
     "text": [
      "Model: \"sequential_1\"\n",
      "_________________________________________________________________\n",
      " Layer (type)                Output Shape              Param #   \n",
      "=================================================================\n",
      " conv2d_4 (Conv2D)           (None, 28, 28, 64)        640       \n",
      "                                                                 \n",
      " batch_normalization_5 (Batc  (None, 28, 28, 64)       192       \n",
      " hNormalization)                                                 \n",
      "                                                                 \n",
      " activation_5 (Activation)   (None, 28, 28, 64)        0         \n",
      "                                                                 \n",
      " conv2d_5 (Conv2D)           (None, 28, 28, 64)        36928     \n",
      "                                                                 \n",
      " batch_normalization_6 (Batc  (None, 28, 28, 64)       192       \n",
      " hNormalization)                                                 \n",
      "                                                                 \n",
      " activation_6 (Activation)   (None, 28, 28, 64)        0         \n",
      "                                                                 \n",
      " max_pooling2d_2 (MaxPooling  (None, 14, 14, 64)       0         \n",
      " 2D)                                                             \n",
      "                                                                 \n",
      " dropout_2 (Dropout)         (None, 14, 14, 64)        0         \n",
      "                                                                 \n",
      " conv2d_6 (Conv2D)           (None, 14, 14, 128)       73856     \n",
      "                                                                 \n",
      " batch_normalization_7 (Batc  (None, 14, 14, 128)      384       \n",
      " hNormalization)                                                 \n",
      "                                                                 \n",
      " activation_7 (Activation)   (None, 14, 14, 128)       0         \n",
      "                                                                 \n",
      " conv2d_7 (Conv2D)           (None, 14, 14, 128)       147584    \n",
      "                                                                 \n",
      " batch_normalization_8 (Batc  (None, 14, 14, 128)      384       \n",
      " hNormalization)                                                 \n",
      "                                                                 \n",
      " activation_8 (Activation)   (None, 14, 14, 128)       0         \n",
      "                                                                 \n",
      " max_pooling2d_3 (MaxPooling  (None, 7, 7, 128)        0         \n",
      " 2D)                                                             \n",
      "                                                                 \n",
      " dropout_3 (Dropout)         (None, 7, 7, 128)         0         \n",
      "                                                                 \n",
      " flatten_1 (Flatten)         (None, 6272)              0         \n",
      "                                                                 \n",
      " dense_1 (Dense)             (None, 256)               1605888   \n",
      "                                                                 \n",
      " batch_normalization_9 (Batc  (None, 256)              768       \n",
      " hNormalization)                                                 \n",
      "                                                                 \n",
      " activation_9 (Activation)   (None, 256)               0         \n",
      "                                                                 \n",
      " dense_2 (Dense)             (None, 10)                2570      \n",
      "                                                                 \n",
      "=================================================================\n",
      "Total params: 1,869,386\n",
      "Trainable params: 1,868,106\n",
      "Non-trainable params: 1,280\n",
      "_________________________________________________________________\n"
     ]
    }
   ],
   "source": [
    "model.summary()"
   ]
  },
  {
   "cell_type": "markdown",
   "id": "16862a62",
   "metadata": {},
   "source": [
    "### plotting"
   ]
  },
  {
   "cell_type": "code",
   "execution_count": 42,
   "id": "cbb533d0",
   "metadata": {},
   "outputs": [
    {
     "data": {
      "text/plain": [
       "<matplotlib.legend.Legend at 0x7fee700d2430>"
      ]
     },
     "execution_count": 42,
     "metadata": {},
     "output_type": "execute_result"
    },
    {
     "data": {
      "image/png": "[encoded data removed]",
      "text/plain": [
       "<Figure size 1440x504 with 1 Axes>"
      ]
     },
     "metadata": {
      "needs_background": "light"
     },
     "output_type": "display_data"
    }
   ],
   "source": [
    "# Defining Figure\n",
    "f = plt.figure(figsize=(20,7))\n",
    "\n",
    "#For Accuracy - subplot\n",
    "f.add_subplot(121)\n",
    "\n",
    "plt.plot(model_fit.epoch,model_fit.history['accuracy'],label = \"training accuracy\") # Accuracy curve for training set\n",
    "plt.plot(model_fit.epoch,model_fit.history['val_accuracy'],label = \"validation accuracy\")\n",
    "\n",
    "plt.title(\"Accuracy Curve\",fontsize=18)\n",
    "plt.xlabel(\"Epochs\",fontsize=15)\n",
    "plt.ylabel(\"Accuracy\",fontsize=15)\n",
    "plt.grid(alpha=0.3)\n",
    "plt.legend()\n"
   ]
  },
  {
   "cell_type": "code",
   "execution_count": 43,
   "id": "8b91c34c",
   "metadata": {},
   "outputs": [
    {
     "data": {
      "image/png": "[encoded data removed]",
      "text/plain": [
       "<Figure size 432x288 with 1 Axes>"
      ]
     },
     "metadata": {
      "needs_background": "light"
     },
     "output_type": "display_data"
    }
   ],
   "source": [
    "#Adding Subplot (For Loss)\n",
    "f.add_subplot(122)\n",
    "\n",
    "plt.plot(model_fit.epoch,model_fit.history['loss'],label=\"training loss\") # Loss curve for training set\n",
    "plt.plot(model_fit.epoch,model_fit.history['val_loss'],label=\"validation loss\")\n",
    "\n",
    "plt.title(\"Loss Curve\",fontsize=18)\n",
    "plt.xlabel(\"Epochs\",fontsize=15)\n",
    "plt.ylabel(\"Loss\",fontsize=15)\n",
    "plt.grid(alpha=0.3)\n",
    "plt.legend()\n",
    "\n",
    "plt.show()"
   ]
  },
  {
   "cell_type": "markdown",
   "id": "fd1d381d",
   "metadata": {},
   "source": [
    "### Evaluation"
   ]
  },
  {
   "cell_type": "code",
   "execution_count": 45,
   "id": "0f629275",
   "metadata": {},
   "outputs": [
    {
     "name": "stdout",
     "output_type": "stream",
     "text": [
      "220/220 [==============================] - 9s 38ms/step - loss: 0.0051 - accuracy: 0.9923\n",
      "\n",
      "Accuracy = 99.2312074%\n",
      "Loss     = 0.005108574\n"
     ]
    }
   ],
   "source": [
    "evaluate_test = model.evaluate(x_test, y_test, verbose=1)\n",
    "\n",
    "print(\"\\nAccuracy =\", \"{:.7f}%\".format(evaluate_test[1]*100))\n",
    "print(\"Loss     =\" ,\"{:.9f}\".format(evaluate_test[0]))"
   ]
  },
  {
   "cell_type": "code",
   "execution_count": 46,
   "id": "eb8b8c90",
   "metadata": {},
   "outputs": [],
   "source": [
    "y_predict = model.predict(x_test)"
   ]
  },
  {
   "cell_type": "code",
   "execution_count": 47,
   "id": "8ab6aa00",
   "metadata": {},
   "outputs": [
    {
     "data": {
      "text/plain": [
       "array([4, 3, 8, ..., 7, 3, 2])"
      ]
     },
     "execution_count": 47,
     "metadata": {},
     "output_type": "execute_result"
    }
   ],
   "source": [
    "y_predict_max = np.argmax(y_predict,axis=1) \n",
    "y_predict_max"
   ]
  },
  {
   "cell_type": "code",
   "execution_count": 49,
   "id": "1368ef1c",
   "metadata": {},
   "outputs": [
    {
     "data": {
      "image/png": "[encoded data removed]",
      "text/plain": [
       "<Figure size 504x648 with 9 Axes>"
      ]
     },
     "metadata": {
      "needs_background": "light"
     },
     "output_type": "display_data"
    }
   ],
   "source": [
    "plt.figure(figsize=(7,9))\n",
    "for i in range(1, 10):\n",
    "    plt.subplot(330 + i)\n",
    "    plt.imshow(x_test[i], cmap=plt.get_cmap('Greys'))\n",
    "    plt.title(title[i-1])\n",
    "    plt.axis('off')\n",
    "plt.tight_layout()"
   ]
  },
  {
   "cell_type": "code",
   "execution_count": 50,
   "id": "73af0559",
   "metadata": {},
   "outputs": [],
   "source": [
    "## test data"
   ]
  },
  {
   "cell_type": "code",
   "execution_count": 53,
   "id": "3029acf8",
   "metadata": {},
   "outputs": [
    {
     "data": {
      "text/plain": [
       "(5000, 28, 28, 1)"
      ]
     },
     "execution_count": 53,
     "metadata": {},
     "output_type": "execute_result"
    }
   ],
   "source": [
    "def data_prep(raw):\n",
    "    num_images = raw.shape[0]\n",
    "    x_as_array = raw.values[:,1:]\n",
    "    x_shaped_array = x_as_array.reshape(num_images, img_r, img_c, 1)\n",
    "    \n",
    "    return x_shaped_array\n",
    "\n",
    "test_x = data_prep(test)\n",
    "test_x.shape"
   ]
  },
  {
   "cell_type": "code",
   "execution_count": 54,
   "id": "1d5d402b",
   "metadata": {},
   "outputs": [],
   "source": [
    "test_generator = augs_gen.flow(test_x)"
   ]
  },
  {
   "cell_type": "code",
   "execution_count": 55,
   "id": "66b9d645",
   "metadata": {},
   "outputs": [
    {
     "name": "stderr",
     "output_type": "stream",
     "text": [
      "/var/folders/k3/6qdc5wpd2hxb3jxhzssny0_c0000gn/T/ipykernel_51551/4031129170.py:1: UserWarning: `Model.predict_generator` is deprecated and will be removed in a future version. Please use `Model.predict`, which supports generators.\n",
      "  y_hat = model.predict_generator(test_generator)\n"
     ]
    }
   ],
   "source": [
    "y_hat = model.predict_generator(test_generator)"
   ]
  },
  {
   "cell_type": "code",
   "execution_count": 57,
   "id": "f348e527",
   "metadata": {},
   "outputs": [],
   "source": [
    "submission_label = np.argmax(y_hat, axis=1)\n",
    "submission_label = pd.Series(submission_label, name=\"label\")\n",
    "\n",
    "image_id = pd.Series(range(0,len(test)))\n",
    "image_id = pd.Series(image_id, name=\"id\")"
   ]
  },
  {
   "cell_type": "code",
   "execution_count": 58,
   "id": "1082ade2",
   "metadata": {},
   "outputs": [
    {
     "data": {
      "text/html": [
       "<div>\n",
       "<style scoped>\n",
       "    .dataframe tbody tr th:only-of-type {\n",
       "        vertical-align: middle;\n",
       "    }\n",
       "\n",
       "    .dataframe tbody tr th {\n",
       "        vertical-align: top;\n",
       "    }\n",
       "\n",
       "    .dataframe thead th {\n",
       "        text-align: right;\n",
       "    }\n",
       "</style>\n",
       "<table border=\"1\" class=\"dataframe\">\n",
       "  <thead>\n",
       "    <tr style=\"text-align: right;\">\n",
       "      <th></th>\n",
       "      <th>id</th>\n",
       "      <th>label</th>\n",
       "    </tr>\n",
       "  </thead>\n",
       "  <tbody>\n",
       "    <tr>\n",
       "      <th>0</th>\n",
       "      <td>0</td>\n",
       "      <td>1</td>\n",
       "    </tr>\n",
       "    <tr>\n",
       "      <th>1</th>\n",
       "      <td>1</td>\n",
       "      <td>5</td>\n",
       "    </tr>\n",
       "    <tr>\n",
       "      <th>2</th>\n",
       "      <td>2</td>\n",
       "      <td>5</td>\n",
       "    </tr>\n",
       "    <tr>\n",
       "      <th>3</th>\n",
       "      <td>3</td>\n",
       "      <td>5</td>\n",
       "    </tr>\n",
       "    <tr>\n",
       "      <th>4</th>\n",
       "      <td>4</td>\n",
       "      <td>4</td>\n",
       "    </tr>\n",
       "  </tbody>\n",
       "</table>\n",
       "</div>"
      ],
      "text/plain": [
       "   id  label\n",
       "0   0      1\n",
       "1   1      5\n",
       "2   2      5\n",
       "3   3      5\n",
       "4   4      4"
      ]
     },
     "execution_count": 58,
     "metadata": {},
     "output_type": "execute_result"
    }
   ],
   "source": [
    "submission = pd.concat([image_id,submission_label],axis = 1)\n",
    "submission.to_csv(\"submission.csv\", index=False)\n",
    "pd.read_csv(\"submission.csv\").head()"
   ]
  },
  {
   "cell_type": "code",
   "execution_count": 69,
   "id": "e3bcd196",
   "metadata": {},
   "outputs": [
    {
     "data": {
      "image/png": "[encoded data removed]",
      "text/plain": [
       "<Figure size 504x648 with 9 Axes>"
      ]
     },
     "metadata": {
      "needs_background": "light"
     },
     "output_type": "display_data"
    }
   ],
   "source": [
    "plt.figure(figsize=(7,9))\n",
    "for i in range(1, 10):\n",
    "    plt.subplot(330 + i)\n",
    "    plt.imshow(test_x[i], cmap=plt.get_cmap('Greys'))\n",
    "    plt.title(title[i-1])\n",
    "    plt.axis('off')\n",
    "plt.tight_layout()"
   ]
  },
  {
   "cell_type": "code",
   "execution_count": null,
   "id": "33305b3d",
   "metadata": {},
   "outputs": [],
   "source": []
  }
 ],
 "metadata": {
  "kernelspec": {
   "display_name": "Python 3 (ipykernel)",
   "language": "python",
   "name": "python3"
  },
  "language_info": {
   "codemirror_mode": {
    "name": "ipython",
    "version": 3
   },
   "file_extension": ".py",
   "mimetype": "text/x-python",
   "name": "python",
   "nbconvert_exporter": "python",
   "pygments_lexer": "ipython3",
   "version": "3.8.13"
  }
 },
 "nbformat": 4,
 "nbformat_minor": 5
}
