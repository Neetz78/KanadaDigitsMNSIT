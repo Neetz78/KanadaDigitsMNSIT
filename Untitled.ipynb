{
 "cells": [
  {
   "cell_type": "code",
   "execution_count": 5,
   "id": "a870a7ba",
   "metadata": {},
   "outputs": [],
   "source": [
    "##import all libraries\n",
    "\n",
    "import pandas as pd\n",
    "import numpy as np\n",
    "\n",
    "\n",
    "import matplotlib.pyplot as plt"
   ]
  },
  {
   "cell_type": "code",
   "execution_count": 35,
   "id": "569d459d",
   "metadata": {},
   "outputs": [],
   "source": [
    "train = pd.read_csv(\"train.csv\")\n",
    "test = pd.read_csv(\"test.csv\")"
   ]
  },
  {
   "cell_type": "code",
   "execution_count": 36,
   "id": "bf8810ec",
   "metadata": {},
   "outputs": [
    {
     "name": "stdout",
     "output_type": "stream",
     "text": [
      "(60000, 785)\n",
      "(5000, 785)\n"
     ]
    }
   ],
   "source": [
    "print(train.shape)\n",
    "print(test.shape)"
   ]
  },
  {
   "cell_type": "code",
   "execution_count": 37,
   "id": "45df61d9",
   "metadata": {},
   "outputs": [],
   "source": [
    "X_train = (train.iloc[:,1:].values).astype('float32') # all pixel values\n",
    "Y_train = train.iloc[:,0].values.astype('int32') # only labels i.e targets digits\n",
    "X_test = test.values.astype('float32')"
   ]
  },
  {
   "cell_type": "code",
   "execution_count": 38,
   "id": "6634f65c",
   "metadata": {},
   "outputs": [],
   "source": [
    "## Data visulaization"
   ]
  },
  {
   "cell_type": "code",
   "execution_count": 40,
   "id": "97cc00df",
   "metadata": {},
   "outputs": [
    {
     "data": {
      "image/png": "[encoded data removed]",
      "text/plain": [
       "<Figure size 432x288 with 3 Axes>"
      ]
     },
     "metadata": {
      "needs_background": "light"
     },
     "output_type": "display_data"
    }
   ],
   "source": [
    "#Convert train datset to (num_images, img_rows, img_cols) format \n",
    "X_train = X_train.reshape(X_train.shape[0], 28, 28)\n",
    "\n",
    "for i in range(6, 9):\n",
    "    plt.subplot(330 + (i+1))\n",
    "    plt.imshow(X_train[i], cmap=plt.get_cmap('gray'))\n",
    "    plt.title(Y_train[i]);"
   ]
  },
  {
   "cell_type": "markdown",
   "id": "7a7fa9fe",
   "metadata": {},
   "source": [
    "#### removed the first column from the test dataset has it was id and it was not required in the column , id is similar to label."
   ]
  },
  {
   "cell_type": "code",
   "execution_count": 41,
   "id": "fd85300f",
   "metadata": {},
   "outputs": [],
   "source": [
    "X_test = test.iloc[:,1:].values.astype('float32')"
   ]
  },
  {
   "cell_type": "code",
   "execution_count": 42,
   "id": "118a6e9d",
   "metadata": {},
   "outputs": [
    {
     "data": {
      "text/plain": [
       "(5000, 784)"
      ]
     },
     "execution_count": 42,
     "metadata": {},
     "output_type": "execute_result"
    }
   ],
   "source": [
    "X_test.shape"
   ]
  },
  {
   "cell_type": "code",
   "execution_count": 43,
   "id": "d59b85ee",
   "metadata": {},
   "outputs": [],
   "source": [
    "# setting up the channel to be grayscale for all\n",
    "\n",
    "X_train = X_train.reshape(X_train.shape[0], 28, 28,1)\n",
    "X_test = X_test.reshape(X_test.shape[0], 28, 28,1)"
   ]
  },
  {
   "cell_type": "code",
   "execution_count": 44,
   "id": "18eb00e3",
   "metadata": {},
   "outputs": [],
   "source": [
    "### Preprocessing the digits"
   ]
  },
  {
   "cell_type": "markdown",
   "id": "34329d48",
   "metadata": {},
   "source": [
    "### feature standardization."
   ]
  },
  {
   "cell_type": "markdown",
   "id": "fe421581",
   "metadata": {},
   "source": [
    "Its an important step to setup all digits to have mean zero and variance as 1."
   ]
  },
  {
   "cell_type": "code",
   "execution_count": 45,
   "id": "11bbd729",
   "metadata": {},
   "outputs": [],
   "source": [
    "avg = X_train.mean().astype('float32')\n",
    "sd = X_train.std().astype('float32')\n",
    "\n",
    "\n",
    "def standardize(data):\n",
    "    return (data-avg)/sd"
   ]
  },
  {
   "cell_type": "code",
   "execution_count": 46,
   "id": "2f321874",
   "metadata": {},
   "outputs": [],
   "source": [
    "X_train = standardize(X_train)"
   ]
  },
  {
   "cell_type": "markdown",
   "id": "cb2b5d26",
   "metadata": {},
   "source": [
    "## one hot encoding "
   ]
  },
  {
   "cell_type": "markdown",
   "id": "c935f046",
   "metadata": {},
   "source": [
    "Important learning here this makes it easy to know what digit it is."
   ]
  },
  {
   "cell_type": "markdown",
   "id": "318810bf",
   "metadata": {},
   "source": [
    "### Definition:\n",
    "\n",
    "A one-hot vector is a vector which is 0 in most dimensions, and 1 in a single dimension. In this case, the nth digit will be represented as a vector which is 1 in the nth dimension.\n",
    "\n",
    "For example, 3 would be [0,0,0,1,0,0,0,0,0,0]."
   ]
  },
  {
   "cell_type": "code",
   "execution_count": 47,
   "id": "a11b58c9",
   "metadata": {},
   "outputs": [
    {
     "data": {
      "text/plain": [
       "10"
      ]
     },
     "execution_count": 47,
     "metadata": {},
     "output_type": "execute_result"
    }
   ],
   "source": [
    "from keras.utils.np_utils import to_categorical\n",
    "Y_train= to_categorical(Y_train)\n",
    "num_classes = Y_train.shape[1]\n",
    "num_classes"
   ]
  },
  {
   "cell_type": "code",
   "execution_count": 48,
   "id": "73215afb",
   "metadata": {},
   "outputs": [
    {
     "data": {
      "image/png": "[encoded data removed]",
      "text/plain": [
       "<Figure size 432x288 with 1 Axes>"
      ]
     },
     "metadata": {
      "needs_background": "light"
     },
     "output_type": "display_data"
    }
   ],
   "source": [
    "plt.title(Y_train[9])\n",
    "plt.plot(Y_train[9])\n",
    "plt.xticks(range(10));"
   ]
  },
  {
   "cell_type": "code",
   "execution_count": null,
   "id": "a520a616",
   "metadata": {},
   "outputs": [],
   "source": []
  }
 ],
 "metadata": {
  "kernelspec": {
   "display_name": "Python 3 (ipykernel)",
   "language": "python",
   "name": "python3"
  },
  "language_info": {
   "codemirror_mode": {
    "name": "ipython",
    "version": 3
   },
   "file_extension": ".py",
   "mimetype": "text/x-python",
   "name": "python",
   "nbconvert_exporter": "python",
   "pygments_lexer": "ipython3",
   "version": "3.8.13"
  }
 },
 "nbformat": 4,
 "nbformat_minor": 5
}
